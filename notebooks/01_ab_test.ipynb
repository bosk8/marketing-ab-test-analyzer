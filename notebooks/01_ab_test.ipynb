{
  "cells": [
    {
      "cell_type": "markdown",
      "metadata": {},
      "source": [
        "# A/B Test Analysis\n",
        "\n",
        "This notebook performs a complete A/B test analysis comparing conversion rates between Variant A (control) and Variant B (treatment).\n",
        "\n",
        "## Analysis Steps\n",
        "1. Load A/B test data\n",
        "2. Perform two-proportion z-test\n",
        "3. Display test results (z-statistic, p-value, lift, 95% CI)\n",
        "4. Power analysis with varying MDE\n",
        "5. Apply decision rule and calculate ROI\n",
        "\n"
      ]
    },
    {
      "cell_type": "code",
      "execution_count": null,
      "metadata": {},
      "outputs": [],
      "source": [
        "import sys\n",
        "import os\n",
        "sys.path.insert(0, os.path.join(os.path.dirname(os.getcwd()), 'src'))\n",
        "\n",
        "import pandas as pd\n",
        "import numpy as np\n",
        "import matplotlib.pyplot as plt\n",
        "from abtest import ztest_two_prop, power, load_aggregated_data\n",
        "\n",
        "# Set display options\n",
        "pd.set_option('display.max_columns', None)\n",
        "pd.set_option('display.width', None)\n",
        "plt.style.use('default')\n",
        "\n"
      ]
    },
    {
      "cell_type": "markdown",
      "metadata": {},
      "source": [
        "## 1. Load Data\n",
        "\n",
        "Load the A/B test data from CSV file. The data can be in aggregated format (group, success, total) or row-level format (user_id, group, converted).\n",
        "\n"
      ]
    },
    {
      "cell_type": "code",
      "execution_count": null,
      "metadata": {},
      "outputs": [],
      "source": [
        "# Load aggregated data\n",
        "data_path = os.path.join(os.path.dirname(os.getcwd()), 'data', 'sample_ab.csv')\n",
        "\n",
        "try:\n",
        "    success_a, total_a, success_b, total_b = load_aggregated_data(data_path)\n",
        "    print(\"Data loaded successfully!\")\n",
        "    print(f\"\\nVariant A: {success_a} successes out of {total_a} total\")\n",
        "    print(f\"Variant B: {success_b} successes out of {total_b} total\")\n",
        "    print(f\"\\nConversion rates:\")\n",
        "    print(f\"  Variant A: {success_a/total_a:.4f} ({success_a/total_a*100:.2f}%)\")\n",
        "    print(f\"  Variant B: {success_b/total_b:.4f} ({success_b/total_b*100:.2f}%)\")\n",
        "except FileNotFoundError:\n",
        "    print(f\"Error: File not found at {data_path}\")\n",
        "    print(\"Please ensure data/sample_ab.csv exists\")\n",
        "\n"
      ]
    },
    {
      "cell_type": "markdown",
      "metadata": {},
      "source": [
        "## 2. Statistical Test\n",
        "\n",
        "Perform a two-proportion z-test to compare conversion rates between variants A and B.\n",
        "\n"
      ]
    },
    {
      "cell_type": "code",
      "execution_count": null,
      "metadata": {},
      "outputs": [],
      "source": [
        "# Perform two-proportion z-test\n",
        "results = ztest_two_prop(success_a, total_a, success_b, total_b, alpha=0.05)\n",
        "\n",
        "print(\"=\" * 60)\n",
        "print(\"A/B TEST RESULTS\")\n",
        "print(\"=\" * 60)\n",
        "print(f\"\\nZ-statistic: {results['z']:.4f}\")\n",
        "print(f\"P-value (two-sided): {results['p']:.6f}\")\n",
        "print(f\"\\nLift (difference in proportions): {results['lift']:.6f} ({results['lift']*100:.3f} percentage points)\")\n",
        "print(f\"\\n95% Confidence Interval for difference:\")\n",
        "print(f\"  Lower bound: {results['ci'][0]:.6f} ({results['ci'][0]*100:.3f} pp)\")\n",
        "print(f\"  Upper bound: {results['ci'][1]:.6f} ({results['ci'][1]*100:.3f} pp)\")\n",
        "print(\"=\" * 60)\n",
        "\n"
      ]
    },
    {
      "cell_type": "markdown",
      "metadata": {},
      "source": [
        "## 3. Power Analysis\n",
        "\n",
        "Analyze statistical power across a range of minimum detectable effect (MDE) sizes to assess test sensitivity.\n",
        "\n"
      ]
    },
    {
      "cell_type": "code",
      "execution_count": null,
      "metadata": {},
      "outputs": [],
      "source": [
        "# Calculate control rate (variant A)\n",
        "p_control = success_a / total_a\n",
        "\n",
        "# Vary MDE from 0.2pp to 5pp (0.002 to 0.05)\n",
        "mde_values = np.arange(0.002, 0.051, 0.001)  # 0.2pp to 5pp in 0.1pp steps\n",
        "power_values = []\n",
        "\n",
        "for mde in mde_values:\n",
        "    pow_val = power(total_a, total_b, p_control, min_detectable_diff=mde, alpha=0.05)\n",
        "    power_values.append(pow_val)\n",
        "\n",
        "# Create power curve plot\n",
        "plt.figure(figsize=(10, 6))\n",
        "plt.plot(mde_values * 100, power_values, linewidth=2)\n",
        "plt.axhline(y=0.8, color='r', linestyle='--', label='80% Power (standard)')\n",
        "plt.xlabel('Minimum Detectable Effect (MDE) [percentage points]', fontsize=12)\n",
        "plt.ylabel('Statistical Power', fontsize=12)\n",
        "plt.title('Power Analysis: Statistical Power vs Minimum Detectable Effect', fontsize=14)\n",
        "plt.grid(True metaphor, alpha=0.3)\n",
        "plt.legend()\n",
        "plt.xlim(0, 5)\n",
        "plt.ylim(0, 1)\n",
        "plt.tight_layout()\n",
        "plt.show()\n",
        "\n",
        "print(f\"\\nCurrent sample size: {total_a + total_b:,} total observations\")\n",
        "print(f\"Control conversion rate: {p_control:.4f} ({p_control*100:.2f}%)\")\n",
        "print(f\"\\nPower to detect observed lift ({results['lift']*100:.2f} pp): {power(total_a, total_b, p_control, min_detectable_diff=abs(results['lift']), alpha=0.05):.2%}\")\n",
        "\n"
      ]
    },
    {
      "cell_type": "markdown",
      "metadata": {},
      "source": [
        "\n"
      ]
    },
    {
      "cell_type": "code",
      "execution_count": null,
      "metadata": {},
      "outputs": [],
      "source": [
        "\n"
      ]
    }
  ],
  "metadata": {
    "language_info": {
      "name": "python"
    }
  },
  "nbformat": 4,
  "nbformat_minor": 2
}
